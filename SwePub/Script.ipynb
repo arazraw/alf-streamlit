{
 "cells": [
  {
   "cell_type": "code",
   "execution_count": null,
   "metadata": {},
   "outputs": [],
   "source": [
    "import json\n",
    "import pandas as pd\n",
    "\n",
    "with open('Swepub_bibliometrics_export.json', 'r') as f:\n",
    "    data = json.load(f)"
   ]
  },
  {
   "cell_type": "code",
   "execution_count": null,
   "metadata": {},
   "outputs": [],
   "source": [
    "data"
   ]
  },
  {
   "cell_type": "code",
   "execution_count": null,
   "metadata": {},
   "outputs": [],
   "source": [
    "from itables import init_notebook_mode\n",
    "\n",
    "init_notebook_mode(all_interactive=True)"
   ]
  },
  {
   "cell_type": "code",
   "execution_count": null,
   "metadata": {},
   "outputs": [],
   "source": [
    "df = pd.json_normalize(data['hits'])\n",
    "df.head()  # Display the first few rows of the DataFrame"
   ]
  },
  {
   "cell_type": "code",
   "execution_count": null,
   "metadata": {},
   "outputs": [],
   "source": [
    "# Abbreviations and their corresponding names\n",
    "abbreviation_map = {\n",
    "    'bth': 'Blekinge Tekniska Högskola',\n",
    "    'cth': 'Chalmers tekniska högskola',\n",
    "    'ths': 'Enskilda Högskolan Stockholm',\n",
    "    'fhs': 'Försvarshögskolan',\n",
    "    'gih': 'Gymnastik- och idrottshögskolan',\n",
    "    'gu': 'Göteborgs universitet',\n",
    "    'havochvatten': 'Havs- och vattenmyndigheten',\n",
    "    'du': 'Högskolan Dalarna',\n",
    "    'hkr': 'Högskolan Kristianstad',\n",
    "    'hv': 'Högskolan Väst',\n",
    "    'hb': 'Högskolan i Borås',\n",
    "    'hig': 'Högskolan i Gävle',\n",
    "    'hh': 'Högskolan i Halmstad',\n",
    "    'his': 'Högskolan i Skövde',\n",
    "    'sprakochfolkminnen': 'Institutet för språk och folkminnen',\n",
    "    'hj': 'Jönköping University',\n",
    "    'kau': 'Karlstads universitet',\n",
    "    'ki': 'Karolinska Institutet',\n",
    "    'konstfack': 'Konstfack',\n",
    "    'kmh': 'Kungl. Musikhögskolan',\n",
    "    'kth': 'Kungliga Tekniska högskolan',\n",
    "    'liu': 'Linköpings universitet',\n",
    "    'lnu': 'Linnéuniversitetet',\n",
    "    'ltu': 'Luleå tekniska universitet',\n",
    "    'lu': 'Lunds universitet',\n",
    "    'mau': 'Malmö universitet',\n",
    "    'esh': 'Marie Cederschiöld högskola',\n",
    "    'miun': 'Mittuniversitetet',\n",
    "    'mdh': 'Mälardalens universitet',\n",
    "    'nrm': 'Naturhistoriska riksmuseet',\n",
    "    'naturvardsverket': 'Naturvårdsverket',\n",
    "    'nai': 'Nordiska Afrikainstitutet',\n",
    "    'ri': 'RISE Research Institutes of Sweden',\n",
    "    'raa': 'Riksantikvarieämbetet',\n",
    "    'rkh': 'Röda Korsets Högskola',\n",
    "    'shh': 'Sophiahemmet Högskola',\n",
    "    'vti': 'Statens väg- och transportforskningsinstitut',\n",
    "    'uniarts': 'Stockholms konstnärliga högskola',\n",
    "    'su': 'Stockholms universitet',\n",
    "    'slu': 'Sveriges lantbruksuniversitet',\n",
    "    'sh': 'Södertörns högskola',\n",
    "    'umu': 'Umeå universitet',\n",
    "    'uu': 'Uppsala universitet',\n",
    "    'oru': 'Örebro universitet'\n",
    "}\n",
    "\n",
    "# Function to replace abbreviations with their full names\n",
    "def replace_abbreviations(sources_list):\n",
    "    return [abbreviation_map.get(source, source) for source in sources_list]\n",
    "\n",
    "# Apply this function to the 'source' column of your DataFrame\n",
    "df['source_labels'] = df['source'].apply(replace_abbreviations)"
   ]
  },
  {
   "cell_type": "code",
   "execution_count": null,
   "metadata": {},
   "outputs": [],
   "source": [
    "df"
   ]
  },
  {
   "cell_type": "code",
   "execution_count": null,
   "metadata": {},
   "outputs": [],
   "source": [
    "# Assuming 'df' is your original DataFrame\n",
    "df['DOI_str'] = df['DOI'].apply(lambda x: ', '.join(x) if isinstance(x, list) else x)\n",
    "df2 = df.drop_duplicates(subset='DOI_str').copy()\n",
    "df2.shape"
   ]
  }
 ],
 "metadata": {
  "kernelspec": {
   "display_name": "Python 3",
   "language": "python",
   "name": "python3"
  },
  "language_info": {
   "codemirror_mode": {
    "name": "ipython",
    "version": 3
   },
   "file_extension": ".py",
   "mimetype": "text/x-python",
   "name": "python",
   "nbconvert_exporter": "python",
   "pygments_lexer": "ipython3",
   "version": "3.9.6"
  }
 },
 "nbformat": 4,
 "nbformat_minor": 2
}
